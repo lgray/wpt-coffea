{
 "cells": [
  {
   "cell_type": "code",
   "execution_count": 1,
   "metadata": {},
   "outputs": [],
   "source": [
    "import numpy as np\n",
    "import matplotlib.pyplot as plt\n",
    "from matplotlib.offsetbox import AnchoredText\n",
    "import mplhep as hep\n",
    "import pickle\n",
    "from coffea.util import load\n",
    "from coffea.hist import plot\n",
    "import re"
   ]
  },
  {
   "cell_type": "code",
   "execution_count": 2,
   "metadata": {},
   "outputs": [],
   "source": [
    "lumi_weights = None\n",
    "with open(\"filefetcher/aram_samples.scales.pkl\", \"rb\") as fin:\n",
    "    lumi_weights = pickle.load(fin)\n",
    "    lumi_weights[\"data_mu\"] = 1.0\n",
    "    lumi_weights[\"data_el\"] = 1.0\n",
    "output = load(\"hists_wpt_filefetcher_aram_sample.coffea\")"
   ]
  },
  {
   "cell_type": "code",
   "execution_count": 3,
   "metadata": {},
   "outputs": [
    {
     "data": {
      "text/plain": [
       "['data_mu',\n",
       " 'wl0_mu',\n",
       " 'wl1_mu',\n",
       " 'wl2_mu',\n",
       " 'ttbar_dilepton_mu',\n",
       " 'ttbar_onelepton_mu',\n",
       " 'ttbar_hadronic_mu',\n",
       " 'ww-mu',\n",
       " 'wz-mu',\n",
       " 'zz-mu',\n",
       " 'ztautau-mu',\n",
       " 'wtau0-mu',\n",
       " 'wtau1-mu',\n",
       " 'wtau2-mu']"
      ]
     },
     "execution_count": 3,
     "metadata": {},
     "output_type": "execute_result"
    }
   ],
   "source": [
    "[x for x in lumi_weights.keys() if x[-2:] == \"mu\"]"
   ]
  },
  {
   "cell_type": "code",
   "execution_count": 5,
   "metadata": {},
   "outputs": [],
   "source": [
    "from hist import Hist, Stack\n",
    "data_mu = [h * lumi_weights[name] for name, h in output.items() if name.find(\"data\") > -1 and name[-2:] == \"mu\"]\n",
    "mc_mu = [h * lumi_weights[name] for name, h in output.items() if name.find(\"data\") == -1 and name[-2:] == \"mu\"]\n",
    "data_el = [h * lumi_weights[name] for name, h in output.items() if name.find(\"data\") > -1 and name[-2:] == \"el\"]\n",
    "mc_el = [h * lumi_weights[name] for name, h in output.items() if name.find(\"data\") == -1 and name[-2:] == \"el\"]\n"
   ]
  },
  {
   "cell_type": "code",
   "execution_count": null,
   "metadata": {},
   "outputs": [],
   "source": [
    "mts_mu = muon_channel[:, \"cent\", ...].project(\"dataset\",\"mt\").stack(\"dataset\")\n",
    "for i in range(len(mts_mu)):\n",
    "    print(\"mu\", mts_mu[i].name)\n",
    "mts_mu_scaled = Stack(*(h * lumi_weights[h.name] for h in mts_mu))\n",
    "\n",
    "mts_el = electron_channel[:, \"cent\", ...].project(\"dataset\",\"mt\").stack(\"dataset\")\n",
    "for i in range(len(mts_mu)):\n",
    "    print(\"el\", mts_el[i].name)\n",
    "mts_el_scaled = Stack(*(h * lumi_weights[h.name] for h in mts_el))"
   ]
  },
  {
   "cell_type": "code",
   "execution_count": null,
   "metadata": {},
   "outputs": [],
   "source": [
    "f, axs = plt.subplots(1, 1, sharex=True, sharey=True)\n",
    "\n",
    "hep.histplot([x for x in mts_mu_scaled], label=[x.name for x in mts_mu_scaled])\n",
    "\n",
    "axs.legend(fontsize=16)"
   ]
  },
  {
   "cell_type": "code",
   "execution_count": null,
   "metadata": {},
   "outputs": [],
   "source": [
    "analysis[\"wl0_mu\", \"cent\", ...].project(\"mt\") * lumi_weights[\"wl0_mu\"]"
   ]
  },
  {
   "cell_type": "code",
   "execution_count": null,
   "metadata": {
    "scrolled": false
   },
   "outputs": [],
   "source": [
    "plt.style.use([hep.style.ROOT, {'font.size': 16}])\n",
    "\n",
    "# plot options for data\n",
    "data_err_opts = {\n",
    "    'linestyle': 'none',\n",
    "    'marker': '.',\n",
    "    'markersize': 10.,\n",
    "    'color': 'k',\n",
    "    'elinewidth': 1,\n",
    "}\n",
    "\n",
    "for i in range(0, int(round(len(output.keys())))-1, 2)[2:]:\n",
    "    fig, ((ax1, ax2),(rax1, rax2)) = plt.subplots(2, 2, figsize=(16, 7), gridspec_kw={\"height_ratios\": (3, 1)}, sharex=True)\n",
    "    fig.subplots_adjust(hspace=.07)\n",
    "    h1name = list(output.keys())[i]\n",
    "    h2name = list(output.keys())[i+1]\n",
    "    if any([h1name.startswith('cutflow'), h2name.startswith('cutflow')]): break\n",
    "    print(h1name, h2name)\n",
    "    h1 = output[h1name]\n",
    "    h2 = output[h2name]\n",
    "    # if True: normalize histo to 1\n",
    "    dense = False\n",
    "\n",
    "    for ax, rax, h in zip([ax1, ax2], [rax1, rax2], [h1, h2]):\n",
    "        # scale MC samples according to lumi (for now, dummy scale)\n",
    "        scales = {\n",
    "            'ttbar': 1.0,\n",
    "            'ttbarprime':1.0\n",
    "        }\n",
    "        h.scale(scales,axis='dataset')   \n",
    "        notdata = re.compile('(?!Data)')\n",
    "        if hasattr(h, 'dim'):\n",
    "            plot.plot1d(h[notdata], ax=ax, legend_opts={'loc':1}, density=dense, stack=True, clear=False);\n",
    "            plot.plot1d(h[\"Data\"], ax=ax, legend_opts={'loc':1}, density=dense, error_opts=data_err_opts, clear=False);\n",
    "            # now we build the ratio plot\n",
    "            plot.plotratio(\n",
    "                   num=h[\"Data\"].sum(\"dataset\"),\n",
    "                    denom=h[notdata].sum(\"dataset\"),\n",
    "                    ax=rax,\n",
    "                    error_opts=data_err_opts,\n",
    "                    denom_fill_opts={},\n",
    "                    guide_opts={},\n",
    "                    unc='num'\n",
    "                )\n",
    "        else:\n",
    "            continue    \n",
    "        #break\n",
    "    for ax, rax, hname in zip([ax1, ax2], [rax1, rax2], [h1name, h2name]):\n",
    "        at = AnchoredText(r\"$1\\mu, 1e$\"+\"\\n\"+\n",
    "                           \"2+ jets\"+\"\\n\"+\n",
    "                          r\"$|\\eta| < 2.5$\",\n",
    "                           loc=2, frameon=False)\n",
    "        ax.add_artist(at)\n",
    "        ax.set_ylim(0.001, None)\n",
    "        if hname.startswith(\"btag\") or hname.startswith(\"DeepCSV_trackDecayLenVal\"):\n",
    "            ax.semilogy()\n",
    "        rax.set_ylabel('Data/Pred.')\n",
    "        rax.set_ylim(0,2)\n",
    "        ax.set_xlabel(None)\n",
    "        \n",
    "    hep.mpl_magic(ax1)\n",
    "    hep.mpl_magic(ax2)"
   ]
  },
  {
   "cell_type": "code",
   "execution_count": null,
   "metadata": {},
   "outputs": [],
   "source": []
  }
 ],
 "metadata": {
  "kernelspec": {
   "display_name": "Python 3 (ipykernel)",
   "language": "python",
   "name": "python3"
  },
  "language_info": {
   "codemirror_mode": {
    "name": "ipython",
    "version": 3
   },
   "file_extension": ".py",
   "mimetype": "text/x-python",
   "name": "python",
   "nbconvert_exporter": "python",
   "pygments_lexer": "ipython3",
   "version": "3.8.10"
  }
 },
 "nbformat": 4,
 "nbformat_minor": 4
}
